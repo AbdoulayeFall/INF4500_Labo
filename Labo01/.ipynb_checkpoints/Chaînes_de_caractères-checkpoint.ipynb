{
 "cells": [
  {
   "cell_type": "markdown",
   "metadata": {},
   "source": [
    "# Python\n",
    "\n",
    "**INF4500 - Bioinformatique**\n",
    "\n",
    "\n",
    "\n",
    "[Mathieu Lemieux](mailto:lemieux.mathieu@courrier.uqam.ca) @ Université du Québec à Montréal (Automne 2020)"
   ]
  },
  {
   "cell_type": "markdown",
   "metadata": {},
   "source": [
    "# Travailler avec des chaînes de caractères"
   ]
  },
  {
   "cell_type": "markdown",
   "metadata": {},
   "source": [
    "### Fonction *len()*"
   ]
  },
  {
   "cell_type": "code",
   "execution_count": null,
   "metadata": {},
   "outputs": [],
   "source": [
    "chaine = 'ahsodhaklshdklahsdkj'\n",
    "print(len(chaine))"
   ]
  },
  {
   "cell_type": "markdown",
   "metadata": {},
   "source": [
    "## 1. Index & tranches (*slicing*)\n",
    "\n",
    "En Python, les chaînes sont des tableaux (arrays) de caractères unicode. Un simple caractère est en fait un tableau de longueur 1. Conséquemment, à chaque caractère correspond un index.\n",
    "\n",
    "Forme générale: **chaine[index]**"
   ]
  },
  {
   "cell_type": "code",
   "execution_count": null,
   "metadata": {},
   "outputs": [],
   "source": [
    "chaine = 'Bioinformatique'\n",
    "print(len(chaine))\n",
    "# Accéder à un caractère selon sa position.\n",
    "print('1.', chaine[0]) # Index commence à 0.\n",
    "print('2.', chaine[len(chaine)-1]) # Conséquemment, la position du dernier caratère correspond à la taille de la chaine -1.\n",
    "print('3.', chaine[-1           ]) # Les caractères sont aussi indexés à partir de la droite comme suit: -1, -2, -3, ...\n",
    "print('4.', chaine[-len(chaine) ]) # Conséquemment, la position du premier caratère correspond à la taille de la chaine, fois -1\n",
    "# print('x.', chaine[99           ]) # Attention, un index hors champ génère une erreur...\n",
    "\n",
    "print('-'*50)\n",
    "\n",
    "# Accéder à une 'tranche' de caractères\n",
    "x, y = 0, 7\n",
    "print('5.', chaine[x:y          ]) # Tranche allant de la position x à y-1, inclusivement.\n",
    "print('6.', chaine[0:len(chaine)]) # Conséquemment, pour la chaîne entière...\n",
    "print('7.', chaine[ :           ]) # Ou plus simplement, de\n",
    "print('8.', chaine[ :99         ]) # Contrairement à l'index, une tranche peut être hors champ sans générer d'erreur...\n"
   ]
  },
  {
   "cell_type": "markdown",
   "metadata": {},
   "source": [
    "## 2. Itération sur une chaîne"
   ]
  },
  {
   "cell_type": "code",
   "execution_count": null,
   "metadata": {},
   "outputs": [],
   "source": [
    "chaine = 'Bioinformatique'\n",
    "\n",
    "for caractere in chaine: print(caractere)"
   ]
  },
  {
   "cell_type": "markdown",
   "metadata": {},
   "source": [
    "## 3. Concaténation\n",
    "### Surcharge des opérateurs + et *"
   ]
  },
  {
   "cell_type": "code",
   "execution_count": null,
   "metadata": {},
   "outputs": [],
   "source": [
    "# Avec '+' on peut joindre ensemble deux chaînes. On doit insérer ses propres espaces au besoin.\n",
    "prenom     = 'John'\n",
    "nom        = 'Doe'\n",
    "nomComplet = prenom + ' ' + nom + ' est un personnage bien mystérieux!'\n",
    "print(nomComplet)\n",
    "\n",
    "# Avec '*' on 'multiplie' une série de caractères\n",
    "print('Beep!'*3)"
   ]
  },
  {
   "cell_type": "markdown",
   "metadata": {},
   "source": [
    "### Méthode join()"
   ]
  },
  {
   "cell_type": "code",
   "execution_count": null,
   "metadata": {},
   "outputs": [],
   "source": [
    "lst = ['a', 'b', 'c']\n",
    "sep = ' et '\n",
    "\n",
    "msg = sep.join(lst) # 'join() est une méthode de l'objet 'string', ici la variable 'sep'.\n",
    "print(msg)\n",
    "\n",
    "# Sur une ligne...\n",
    "print( ' et '.join(['a', 'b', 'c']) )\n",
    "\n",
    "\n",
    "# Joining together elements of an iterable object\n",
    "nom2    = 'a'\n",
    "prenom2 = 'cde'\n",
    "message = nom2.join(prenom2)\n",
    "print(message)"
   ]
  },
  {
   "cell_type": "markdown",
   "metadata": {},
   "source": [
    "### Fonction print()"
   ]
  },
  {
   "cell_type": "code",
   "execution_count": null,
   "metadata": {},
   "outputs": [],
   "source": [
    "# On a normalement déjà vu la fonction print() ensemble\n",
    "# la fonction print() accepte un nombre indéfni d'arguments...\n",
    "\n",
    "# Par défaut, un espace est inséré entre chaque chaînes\n",
    "print('Ceci', 'est', 'une', 'concaténation.')       # Espace\n",
    "\n",
    "# le paramètre 'sep' permet de spécifier le séparasteur\n",
    "print('hors', 'piste', sep='-')                      # Trait d'union\n",
    "print('anti', 'constitutition', 'nellement', sep='') # Pas de séparateur..."
   ]
  },
  {
   "cell_type": "markdown",
   "metadata": {},
   "source": [
    "## 4. Formattage et Interpolation (*String formating*)\n",
    "\n",
    "Voir la documentation officielle [ici](https://docs.python.org/3/tutorial/inputoutput.html#fancier-output-formatting)"
   ]
  },
  {
   "cell_type": "markdown",
   "metadata": {},
   "source": [
    "### Méthodes *upper()*, *lower()*, *capitalize()*"
   ]
  },
  {
   "cell_type": "code",
   "execution_count": null,
   "metadata": {},
   "outputs": [],
   "source": [
    "chaine1 = 'Bioinformatique'\n",
    "chaine2 = 'abc'\n",
    "\n",
    "print( chaine1.upper() )\n",
    "print( chaine1.lower() )\n",
    "print( chaine2.capitalize() )\n",
    "\n",
    "print( chaine1.upper() )"
   ]
  },
  {
   "cell_type": "markdown",
   "metadata": {},
   "source": [
    "### Méthode *format()*\n",
    "\n",
    "Plus d'exemples dans [cet article](https://pyformat.info/)."
   ]
  },
  {
   "cell_type": "code",
   "execution_count": null,
   "metadata": {},
   "outputs": [],
   "source": [
    "prenom      = 'Ava'\n",
    "nom         = 'Lovelace'\n",
    "titreEmploi = 'programmeuse'\n",
    "\n",
    "\n",
    "# 1. L'ordre d'insertion suit l'index de façon implicite.\n",
    "msg = 'Mon nom est {} {}, je suis {}'.format(prenom, nom.upper(), titreEmploi)\n",
    "print('1.', msg)\n",
    "\n",
    "# 2. Même exemple, déconstruit\n",
    "chaine    = 'Mon nom est {} {}, je suis {}'\n",
    "variables = (prenom, nom.upper(), titreEmploi)\n",
    "msg       = chaine.format(*variables) # '*' permet la séparation (unpacking) d'une série (tuple/list/string)\n",
    "print('2.', msg)\n",
    "\n",
    "# 3. En utilisant explicitement les indexes, on peut changer l'ordre et/ou réutiliser une variable\n",
    "msg = 'Mon nom est {0} {1}, je suis {2}. Appelez-moi {0}!'.format(prenom, nom.upper(), titreEmploi)\n",
    "print('3.', msg)\n",
    "\n",
    "# 4. Si l'on veut utiliser des noms de variable... on doit faire les affectations\n",
    "msg = 'Mon nom est {prenomx} {nom}, je suis {titreEmploi}'.format(prenom=prenom, nom=nom.upper(), titreEmploi=titreEmploi)\n",
    "print('4.', msg)\n",
    "\n",
    "# 5. Regarder ce que l'on peut faire avec un dictionnaire!\n",
    "personne = {'prenom':'Guido', 'nom':'van Rossum', 'titreEmploi':'programmeur', 'hobby':'éleveur de serpent'}\n",
    "msg      = 'Mon nom est {prenom} {nom}, je suis {titreEmploi}'.format(**personne) # '**' spéare un dictionnaire (clé/valeur)\n",
    "print('5.', msg)\n",
    "\n",
    "\n",
    "print('-'*50)\n",
    "# 6. Pour info, voici la vieille formulation avant 'format()', dépréciée...\n",
    "msg = 'Mon nom est %s %s, je suis %s' % (prenom, nom.upper(), titreEmploi)\n",
    "print('6.', msg)"
   ]
  },
  {
   "cell_type": "markdown",
   "metadata": {},
   "source": [
    "### Expressions formatées littérales (*Formatted String Literals* OU *f-string*)\n",
    "À partir de Python 3.6 on peut utiliser la forme suivante: un ***f*** ou ***F*** devant la chaîne et des ***{ }*** pour l'interpolation de variables ou d'expressions."
   ]
  },
  {
   "cell_type": "code",
   "execution_count": null,
   "metadata": {},
   "outputs": [],
   "source": [
    "prenom      = 'Ava'\n",
    "nom         = 'Lovelace'\n",
    "titreEmploi = 'programmeuse'\n",
    "\n",
    "msg = f\"Mon nom est {prenom} {nom.upper()}, je suis {titreEmploi}, j'ai écrit mon 1er programme il y a {2020-1842} ans.\"\n",
    "print(msg)"
   ]
  },
  {
   "cell_type": "markdown",
   "metadata": {},
   "source": [
    "## 5. Recherche de motifs avec les <u>Expressions régulières</u> (regex)\n",
    "\n",
    "Les expressions régulières permettent de rechercher un motif dans une chaîne. Documentation officielle [ici](https://docs.python.org/3/howto/regex.html).\n",
    "\n",
    "Nécessite l'importation du module standard ***re***.\n",
    "\n",
    "On prendra le temps au cours de la session pour y revenir."
   ]
  },
  {
   "cell_type": "code",
   "execution_count": null,
   "metadata": {},
   "outputs": [],
   "source": [
    "# Un court exemple.\n",
    "\n",
    "import re\n",
    "\n",
    "chaine = \"Le ciel bleu\"\n",
    "motif  = \"^Le.*bleu$\"\n",
    "\n",
    "if re.search(motif, chaine): print(\"Trouvé!\")"
   ]
  }
 ],
 "metadata": {
  "kernelspec": {
   "display_name": "Python 3",
   "language": "python",
   "name": "python3"
  },
  "language_info": {
   "codemirror_mode": {
    "name": "ipython",
    "version": 3
   },
   "file_extension": ".py",
   "mimetype": "text/x-python",
   "name": "python",
   "nbconvert_exporter": "python",
   "pygments_lexer": "ipython3",
   "version": "3.7.6"
  }
 },
 "nbformat": 4,
 "nbformat_minor": 4
}
