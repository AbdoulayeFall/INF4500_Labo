{
 "cells": [
  {
   "cell_type": "markdown",
   "metadata": {},
   "source": [
    "# Python\n",
    "\n",
    "**INF4500 - Bioinformatique**\n",
    "\n",
    "\n",
    "\n",
    "[Mathieu Lemieux](mailto:lemieux.mathieu@courrier.uqam.ca) @ Université du Québec à Montréal (Automne 2020)"
   ]
  },
  {
   "cell_type": "markdown",
   "metadata": {},
   "source": [
    "# Opérateurs & Structures conditionnelles"
   ]
  },
  {
   "cell_type": "markdown",
   "metadata": {},
   "source": [
    "## Opérateurs"
   ]
  },
  {
   "cell_type": "markdown",
   "metadata": {},
   "source": [
    "Plus de détails sur les opérateurs [ici](https://www.w3schools.com/python/python_operators.asp). Aujourd'hui on n'en regarde que quelque-uns..."
   ]
  },
  {
   "cell_type": "markdown",
   "metadata": {},
   "source": [
    "### Opérateurs arithmétiques"
   ]
  },
  {
   "cell_type": "code",
   "execution_count": null,
   "metadata": {},
   "outputs": [],
   "source": [
    "# Opérateurs arithmétiques : +, -, *, /, **, %, //\n",
    "\n",
    "x, y = 7.5, 3\n",
    "\n",
    "# Ex.\n",
    "print('+', x+y)\n",
    "print('-', x-y)\n",
    "print('*', x*y)\n",
    "print('/', x/y)\n",
    "print('**', x**y)    # Exposant\n",
    "print('%', x%y)      # Modulo (restant d'une division)\n",
    "print('//', x//y)    # Division tronquée (floor division)"
   ]
  },
  {
   "cell_type": "markdown",
   "metadata": {},
   "source": [
    "### Opérateurs de comparaison"
   ]
  },
  {
   "cell_type": "code",
   "execution_count": null,
   "metadata": {},
   "outputs": [],
   "source": [
    "# Opérateurs de comparaison : <, >, ==, !=, <=, >=\n",
    "\n",
    "# Ex.\n",
    "x, y = 1, 2\n",
    "if x != y: print(\"1 n'égal pas 2\")\n",
    "    \n",
    "    \n",
    "# Autres Ex.\n",
    "print(x==1)\n",
    "print(x==2)"
   ]
  },
  {
   "cell_type": "markdown",
   "metadata": {},
   "source": [
    "### Opérateurs logiques"
   ]
  },
  {
   "cell_type": "code",
   "execution_count": null,
   "metadata": {},
   "outputs": [],
   "source": [
    "# Opérateurs logiques : and, or, not\n",
    "\n",
    "a, b = True, False\n",
    "\n",
    "print(a and b)\n",
    "print(a or b)\n",
    "print(not a)"
   ]
  },
  {
   "cell_type": "markdown",
   "metadata": {},
   "source": [
    "### Opérateurs binaires (*bitwise*)"
   ]
  },
  {
   "cell_type": "code",
   "execution_count": null,
   "metadata": {},
   "outputs": [],
   "source": [
    "# Deux exemples.\n",
    "# On ne les utilisera probablement pas...\n",
    "\n",
    "print(101&110)\n",
    "print(101|110)"
   ]
  },
  {
   "cell_type": "markdown",
   "metadata": {},
   "source": [
    "# Structure conditionnelle"
   ]
  },
  {
   "cell_type": "code",
   "execution_count": null,
   "metadata": {},
   "outputs": [],
   "source": [
    "# Soit les 2 variables de type booléen suivantes\n",
    "condition1 = 0\n",
    "condition2 = True\n",
    "\n",
    "\n",
    "# Suite d'instructions conditionnel... certaines avec opérateur logique\n",
    "# Les conditions sont évaluées 'truthy' ou 'falsy'.\n",
    "if condition1:\n",
    " print('Condition 1 est vraie')\n",
    " print('Condition 1 est vraiement vraie')\n",
    "    \n",
    "if condition2:\n",
    "    print('Condition 2 est vraie')\n",
    "\n",
    "if condition1 or condition2:\n",
    "    print('Condition 1 ou 2 est vraie')\n",
    "    \n",
    "if condition1 and not condition2:\n",
    "    print('Condition 1 est vraie et condition 2 est fausse')\n"
   ]
  },
  {
   "cell_type": "code",
   "execution_count": null,
   "metadata": {},
   "outputs": [],
   "source": [
    "condition1 = True\n",
    "condition2 = True\n",
    "\n",
    "\n",
    "# If, elif, else.\n",
    "if condition1:\n",
    "    print('Condition 1 est vraie; on ne sais pas pour condition 2...')\n",
    "elif condition2: # Équivalent à else if\n",
    "    print('Condition 1 est fausse ET condition 2 est vraie')\n",
    "else:\n",
    "    print('Conditions 1 et 2 sont fausses')\n",
    "    \n",
    "print(\"Cette ligne s'affiche peu importe\")"
   ]
  },
  {
   "cell_type": "code",
   "execution_count": null,
   "metadata": {},
   "outputs": [],
   "source": [
    "x = 5\n",
    "\n",
    "\n",
    "# Avec opérateurs de comparaison\n",
    "if x == 1:\n",
    "    print('x==1')\n",
    "elif x > 2:\n",
    "    print('x != 1 et x > 2')\n",
    "else:\n",
    "    print('Conditions 1 et 2 sont fausses')"
   ]
  }
 ],
 "metadata": {
  "kernelspec": {
   "display_name": "Python 3",
   "language": "python",
   "name": "python3"
  },
  "language_info": {
   "codemirror_mode": {
    "name": "ipython",
    "version": 3
   },
   "file_extension": ".py",
   "mimetype": "text/x-python",
   "name": "python",
   "nbconvert_exporter": "python",
   "pygments_lexer": "ipython3",
   "version": "3.7.6"
  }
 },
 "nbformat": 4,
 "nbformat_minor": 4
}
