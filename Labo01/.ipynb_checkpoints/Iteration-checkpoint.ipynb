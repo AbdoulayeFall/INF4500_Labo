{
 "cells": [
  {
   "cell_type": "markdown",
   "metadata": {},
   "source": [
    "# Python\n",
    "\n",
    "**INF4500 - Bioinformatique**\n",
    "\n",
    "\n",
    "\n",
    "[Mathieu Lemieux](mailto:lemieux.mathieu@courrier.uqam.ca) @ Université du Québec à Montréal (Automne 2020)"
   ]
  },
  {
   "cell_type": "markdown",
   "metadata": {},
   "source": [
    "# Iteration"
   ]
  },
  {
   "cell_type": "markdown",
   "metadata": {},
   "source": [
    "## Boucle *for*"
   ]
  },
  {
   "cell_type": "code",
   "execution_count": null,
   "metadata": {},
   "outputs": [],
   "source": [
    "# Pour chaque élément d'une collection...\n",
    "\n",
    "# Peut s'écrire sur une seule ligne si une seule instruction à exécuter\n",
    "for number in 1, 2, 3: print(number)\n",
    "    \n",
    "# Sinon on doit faire une INDENTATION !!\n",
    "for number in 1, 2, 3:\n",
    "    print('---')\n",
    "    print(number)"
   ]
  },
  {
   "cell_type": "markdown",
   "metadata": {},
   "source": [
    "### Fonction *range()*"
   ]
  },
  {
   "cell_type": "code",
   "execution_count": null,
   "metadata": {},
   "outputs": [],
   "source": [
    "# La fonction range() génère une suite...\n",
    "\n",
    "start = 0\n",
    "stop  = 5\n",
    "\n",
    "for i in range(0, 3): print(i)\n",
    "\n",
    "# Pas de 1 par défaut, dernière position non-incluse\n",
    "for i in range(start, stop): print(i)\n",
    "\n",
    "    \n",
    "print('-'*50)\n",
    "\n",
    "# En spécifiant le pas...\n",
    "step  = 2\n",
    "for i in range(start, stop, step): print(i)"
   ]
  },
  {
   "cell_type": "markdown",
   "metadata": {},
   "source": [
    "## Boucle *while*"
   ]
  },
  {
   "cell_type": "code",
   "execution_count": null,
   "metadata": {},
   "outputs": [],
   "source": [
    "# On l'utilise généralement quand la fin de l'itération dépend d'une condition rencontrée.\n",
    "\n",
    "happyLevel = 5\n",
    "while happyLevel >= 1:\n",
    "    print(f\"I'm happy, level {happyLevel}!\")\n",
    "    happyLevel -= 1  # Un autre opérateur d'assignation... Équivalent de 'happyLevel = happyLevel - 1'\n",
    "    \n",
    "print(\"I'm happy no more :(\")"
   ]
  },
  {
   "cell_type": "code",
   "execution_count": null,
   "metadata": {},
   "outputs": [],
   "source": [
    "# Boucle infinie...\n",
    "\n",
    "while True:\n",
    "    if input('Dites merci: ') == 'merci': break"
   ]
  },
  {
   "cell_type": "markdown",
   "metadata": {},
   "source": [
    "## Itération sur les éléments de liste, tuple ou set; fonctions *enumerate()* et *len()*"
   ]
  },
  {
   "cell_type": "code",
   "execution_count": null,
   "metadata": {},
   "outputs": [],
   "source": [
    "friends = ['Sabrina', 'David', 'Rachel']\n",
    "\n",
    "\n",
    "# Les valeurs uniquement...\n",
    "for friend in friends: print(friend)\n",
    "\n",
    "\n",
    "print('-'*50)\n",
    "\n",
    "# Les valeurs et les indexes... fonction enumerate()\n",
    "# Attention cependant, les ensembles (set) n'ont pas d'index...\n",
    "for index, value in enumerate(friends): print(index, value, sep='. ')\n",
    "\n",
    "    \n",
    "print('-'*50)\n",
    "\n",
    "# Fonctionne aussi, mais 'non-Pythonic'...\n",
    "# Ici aussi ne fonctionne pas pour les ensembles (set)...\n",
    "i=0\n",
    "while i < len(friends):\n",
    "    print(i, friends[i], sep='. ')\n",
    "    i += 1"
   ]
  },
  {
   "cell_type": "markdown",
   "metadata": {},
   "source": [
    "## Itération sur les éléments d'un dictionnaire"
   ]
  },
  {
   "cell_type": "code",
   "execution_count": null,
   "metadata": {},
   "outputs": [],
   "source": [
    "myDict = {'Superman': 'Clark Kent', 'Hulk': 'Robert Bruce Banner'}\n",
    "\n",
    "\n",
    "\n",
    "# La clé seulement\n",
    "for key in myDict:\n",
    "    print(key)\n",
    "    \n",
    "    \n",
    "print('-'*50)\n",
    "    \n",
    "# La valeur seulement\n",
    "for value in myDict.values():\n",
    "    print(value)\n",
    "\n",
    "\n",
    "print('-'*50)\n",
    "\n",
    "# La clé et la valeur dans un tuple\n",
    "for item in myDict.items():\n",
    "    print(item)\n",
    "\n",
    "\n",
    "print('-'*50)\n",
    "    \n",
    "# La clé et la valeur déballées (unpacked) séparément\n",
    "for key, value in myDict.items():\n",
    "    print(key, value, sep=' <--> ')\n",
    "    "
   ]
  }
 ],
 "metadata": {
  "kernelspec": {
   "display_name": "Python 3",
   "language": "python",
   "name": "python3"
  },
  "language_info": {
   "codemirror_mode": {
    "name": "ipython",
    "version": 3
   },
   "file_extension": ".py",
   "mimetype": "text/x-python",
   "name": "python",
   "nbconvert_exporter": "python",
   "pygments_lexer": "ipython3",
   "version": "3.7.6"
  }
 },
 "nbformat": 4,
 "nbformat_minor": 4
}
