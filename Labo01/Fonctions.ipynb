{
 "cells": [
  {
   "cell_type": "markdown",
   "metadata": {},
   "source": [
    "# Fonctions"
   ]
  },
  {
   "cell_type": "markdown",
   "metadata": {},
   "source": [
    "On a vu qu'il esiste plusieurs fonctions natives dispoibles dans Python et encore davantage dans les modules standards, mais il est aussi possible de créer ses propres fonctions.\n",
    "\n",
    "En python, les fonctions retournent toujoours une valeur lorsqu'elles sont exécutées. Pour spécifier la valeur de retour, on utilise le mot réservé 'return'.\n",
    "\n",
    "Si la fonction termine son exécution sans avoir rencontré l'instruction return, la valeur 'None' est retournée par défaut.\n",
    "Lorsque la commande 'return' est rencontrée, l'exécution de la fonction se termine automatiquement.\n",
    "\n",
    "On peut récupérer la valeur retournée par une fonction et l'utiliser dans son code."
   ]
  },
  {
   "cell_type": "markdown",
   "metadata": {},
   "source": [
    "# Créer ses propres fonctions"
   ]
  },
  {
   "cell_type": "markdown",
   "metadata": {},
   "source": [
    "Le mot réservé *def* permet de définir une fonction.\n",
    "\n",
    "On peut passer des arguments via les paramètres, entre parenthèses.\n",
    "\n",
    "On utilise ensuite le nom de la fonction pour y faire référence.\n",
    "\n",
    "La fonction est exécutée lorsque les parenthèses sont ajoutées à la fin."
   ]
  },
  {
   "cell_type": "code",
   "execution_count": null,
   "metadata": {},
   "outputs": [],
   "source": [
    "def maFonction():\n",
    "    print('test')\n",
    "    \n",
    "x = maFonction\n",
    "x()"
   ]
  },
  {
   "cell_type": "code",
   "execution_count": null,
   "metadata": {},
   "outputs": [],
   "source": [
    "def maFonction():\n",
    "    print('test')\n",
    "\n",
    "\n",
    "\n",
    "# 1. Return 'None' par défaut\n",
    "def returnNone():\n",
    "    # Do some stuff...\n",
    "    pass # Le mot réservé 'pass' permet ici d'éviter une erreur d'exécution\n",
    "\n",
    "a = returnNone() # On exécute la fonction à l'aide des parenthèses...\n",
    "print(a)\n",
    "\n",
    "a = returnNone # Ou on affecte la fonction à une variable et on l'exécute plus tard...\n",
    "print(a())\n",
    "\n",
    "\n",
    "\n",
    "print('-'*50)\n",
    "\n",
    "# 2. Retourne une valeur spécifiée\n",
    "def returnMessage():\n",
    "    return 'le dîner est prêt'\n",
    "    \n",
    "a = returnMessage()\n",
    "print(a)\n",
    "    \n",
    "    \n",
    "\n",
    "print('-'*50)\n",
    "\n",
    "# 3. Passation de paramètres (1 paramètre obligatoire attendu...)\n",
    "def printMessage(msg):\n",
    "    print(msg)\n",
    "    \n",
    "printMessage('Les carottes sont cuites')\n",
    "\n",
    "\n",
    "\n",
    "print('-'*50)\n",
    "\n",
    "# 4. Passation de paramètres, autre exemple\n",
    "def printMessage(msg1, msg2, upper=False):\n",
    "    if upper:\n",
    "        print(msg1.upper(), msg2.upper(), sep='\\n') # '\\n' correspond à un saut de ligne.\n",
    "    else:\n",
    "        print(msg1, msg2, sep='\\n')\n",
    "\n",
    "x, y = 'Les carottes sont cuites', 'Le pudding est au four'\n",
    "printMessage(x, y)\n",
    "printMessage(x, y, upper=True)"
   ]
  }
 ],
 "metadata": {
  "kernelspec": {
   "display_name": "Python 3",
   "language": "python",
   "name": "python3"
  },
  "language_info": {
   "codemirror_mode": {
    "name": "ipython",
    "version": 3
   },
   "file_extension": ".py",
   "mimetype": "text/x-python",
   "name": "python",
   "nbconvert_exporter": "python",
   "pygments_lexer": "ipython3",
   "version": "3.7.6"
  }
 },
 "nbformat": 4,
 "nbformat_minor": 4
}
