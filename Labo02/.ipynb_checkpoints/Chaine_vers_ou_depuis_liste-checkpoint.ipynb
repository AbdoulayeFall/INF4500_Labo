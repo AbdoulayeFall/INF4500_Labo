{
 "cells": [
  {
   "cell_type": "markdown",
   "metadata": {},
   "source": [
    "# Python\n",
    "\n",
    "**INF4500 - Bioinformatique**\n",
    "\n",
    "[Mathieu Lemieux](mailto:lemieux.mathieu@courrier.uqam.ca) @ Université du Québec à Montréal (Automne 2020)"
   ]
  },
  {
   "cell_type": "markdown",
   "metadata": {},
   "source": [
    "# Passer de chaîne de caractères à liste, et vice-versa\n",
    "\n",
    "Article sur les méthodes **split()** et **join()** [ici](https://realpython.com/python-string-split-concatenate-join/)"
   ]
  },
  {
   "cell_type": "markdown",
   "metadata": {},
   "source": [
    "## Fonction *list()* vs. Méthode *split()*"
   ]
  },
  {
   "cell_type": "code",
   "execution_count": null,
   "metadata": {},
   "outputs": [],
   "source": [
    "sentense = \"Hello, world!\"\n",
    "\n",
    "# 1. Avec la fonction list(), on sépare chaque caractère\n",
    "print(list(sentense))\n",
    "\n",
    "print('-'*50)\n",
    "\n",
    "\n",
    "# 2. Avec la méthode split(), on sépare chaque 'mot' ...mais pas très habile avec la ponctuation\n",
    "print(sentense.split())\n",
    "print(sentense.split('o', 2)) # On peut spécifier le séparateur (qui va être omis) ainsi que le nb. max. de séparation"
   ]
  },
  {
   "cell_type": "markdown",
   "metadata": {},
   "source": [
    "## Avec comphéhension de liste"
   ]
  },
  {
   "cell_type": "code",
   "execution_count": null,
   "metadata": {},
   "outputs": [],
   "source": [
    "sentense = \"Hello, world!\"\n",
    "\n",
    "# À l'aide de comprehension de liste\n",
    "anything          = [i for i in sentense]\n",
    "vowels            = [i for i in sentense if i in ('a', 'e', 'i', 'o', 'u', 'y')]\n",
    "anythingButVowels = [i for i in sentense if i not in ('a', 'e', 'i', 'o', 'u', 'y')]\n",
    "\n",
    "print(anything)\n",
    "print(vowels)\n",
    "print(anythingButVowels)"
   ]
  },
  {
   "cell_type": "markdown",
   "metadata": {},
   "source": [
    "## Méthode *join()*"
   ]
  },
  {
   "cell_type": "code",
   "execution_count": null,
   "metadata": {},
   "outputs": [],
   "source": [
    "anything = [i for i in \"Hello, world!\"]\n",
    "print(anything)\n",
    "\n",
    "# On remet ensemble avec la méthode join()\n",
    "print(''.join(anything))\n",
    "print('-'.join(anything))"
   ]
  }
 ],
 "metadata": {
  "kernelspec": {
   "display_name": "Python 3",
   "language": "python",
   "name": "python3"
  },
  "language_info": {
   "codemirror_mode": {
    "name": "ipython",
    "version": 3
   },
   "file_extension": ".py",
   "mimetype": "text/x-python",
   "name": "python",
   "nbconvert_exporter": "python",
   "pygments_lexer": "ipython3",
   "version": "3.7.6"
  }
 },
 "nbformat": 4,
 "nbformat_minor": 4
}
